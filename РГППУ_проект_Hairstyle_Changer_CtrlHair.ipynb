{
  "nbformat": 4,
  "nbformat_minor": 0,
  "metadata": {
    "colab": {
      "provenance": [],
      "gpuType": "T4",
      "mount_file_id": "1C5SYUqiBNdzw75oNEILQCY7Ayp0SvE74",
      "authorship_tag": "ABX9TyN+ChosPYC1/eD2ZKwjXsks",
      "include_colab_link": true
    },
    "kernelspec": {
      "name": "python3",
      "display_name": "Python 3"
    },
    "language_info": {
      "name": "python"
    },
    "accelerator": "GPU"
  },
  "cells": [
    {
      "cell_type": "markdown",
      "metadata": {
        "id": "view-in-github",
        "colab_type": "text"
      },
      "source": [
        "<a href=\"https://colab.research.google.com/github/NikitaGeek263/HeSer.Pytorch/blob/main/%D0%A0%D0%93%D0%9F%D0%9F%D0%A3_%D0%BF%D1%80%D0%BE%D0%B5%D0%BA%D1%82_Hairstyle_Changer_CtrlHair.ipynb\" target=\"_parent\"><img src=\"https://colab.research.google.com/assets/colab-badge.svg\" alt=\"Open In Colab\"/></a>"
      ]
    },
    {
      "cell_type": "code",
      "execution_count": 1,
      "metadata": {
        "colab": {
          "base_uri": "https://localhost:8080/"
        },
        "id": "coOOEz1xak-l",
        "outputId": "bdee46cc-298d-4900-95f6-d501da6bfe1c"
      },
      "outputs": [
        {
          "output_type": "stream",
          "name": "stdout",
          "text": [
            "Cloning into 'CtrlHair'...\n",
            "remote: Enumerating objects: 1833, done.\u001b[K\n",
            "remote: Counting objects: 100% (75/75), done.\u001b[K\n",
            "remote: Compressing objects: 100% (37/37), done.\u001b[K\n",
            "remote: Total 1833 (delta 37), reused 73 (delta 37), pack-reused 1758\u001b[K\n",
            "Receiving objects: 100% (1833/1833), 35.74 MiB | 16.06 MiB/s, done.\n",
            "Resolving deltas: 100% (348/348), done.\n",
            "/content/CtrlHair\n"
          ]
        }
      ],
      "source": [
        "!git clone https://github.com/XuyangGuo/CtrlHair.git\n",
        "%cd CtrlHair"
      ]
    },
    {
      "cell_type": "code",
      "source": [
        "!pip install PyTorch\n",
        "!pip install torchvision, tensorboardX, dlib\n",
        "!pip install pillow, pandas, scikit-learn, opencv-python\n",
        "!pip install PyQt5, tqdm, addict, dill\n",
        "!pip install tqdm"
      ],
      "metadata": {
        "colab": {
          "base_uri": "https://localhost:8080/"
        },
        "id": "LrAeLc2jbE7X",
        "outputId": "07df87a0-a454-48fd-af4e-a9d79e95c1eb"
      },
      "execution_count": 5,
      "outputs": [
        {
          "output_type": "stream",
          "name": "stdout",
          "text": [
            "Collecting PyTorch\n",
            "  Using cached pytorch-1.0.2.tar.gz (689 bytes)\n",
            "  Preparing metadata (setup.py) ... \u001b[?25l\u001b[?25hdone\n",
            "Building wheels for collected packages: PyTorch\n",
            "  \u001b[1;31merror\u001b[0m: \u001b[1msubprocess-exited-with-error\u001b[0m\n",
            "  \n",
            "  \u001b[31m×\u001b[0m \u001b[32mpython setup.py bdist_wheel\u001b[0m did not run successfully.\n",
            "  \u001b[31m│\u001b[0m exit code: \u001b[1;36m1\u001b[0m\n",
            "  \u001b[31m╰─>\u001b[0m See above for output.\n",
            "  \n",
            "  \u001b[1;35mnote\u001b[0m: This error originates from a subprocess, and is likely not a problem with pip.\n",
            "  Building wheel for PyTorch (setup.py) ... \u001b[?25lerror\n",
            "\u001b[31m  ERROR: Failed building wheel for PyTorch\u001b[0m\u001b[31m\n",
            "\u001b[0m\u001b[?25h  Running setup.py clean for PyTorch\n",
            "Failed to build PyTorch\n",
            "\u001b[31mERROR: Could not build wheels for PyTorch, which is required to install pyproject.toml-based projects\u001b[0m\u001b[31m\n",
            "\u001b[0m\u001b[31mERROR: Invalid requirement: 'torchvision,'\u001b[0m\u001b[31m\n",
            "\u001b[0m\u001b[31mERROR: Invalid requirement: 'pillow,'\u001b[0m\u001b[31m\n",
            "\u001b[0m\u001b[31mERROR: Invalid requirement: 'PyQt5,'\u001b[0m\u001b[31m\n",
            "\u001b[0mRequirement already satisfied: tqdm in /usr/local/lib/python3.10/dist-packages (4.66.1)\n"
          ]
        }
      ]
    },
    {
      "cell_type": "code",
      "source": [
        "!pip install gdown\n",
        "import gdown\n",
        "\n",
        "file_id = '1-wtf1ciQefo8nIuE4cIXO4LbMNuMfwYn'\n",
        "output = '/content/CtrlHair/external_model_params/face_parsing_79999_iter.pth'  # Замените 'file_name.extension' на имя и расширение файла, которое вы хотите сохранить\n",
        "\n",
        "gdown.download(f'https://drive.google.com/uc?id={file_id}', output, quiet=False)\n"
      ],
      "metadata": {
        "colab": {
          "base_uri": "https://localhost:8080/",
          "height": 333
        },
        "id": "vL9OfCybfQaK",
        "outputId": "c79df2de-ea22-4295-fd65-4aa6e4ac2422"
      },
      "execution_count": 10,
      "outputs": [
        {
          "output_type": "stream",
          "name": "stdout",
          "text": [
            "Requirement already satisfied: gdown in /usr/local/lib/python3.10/dist-packages (4.6.6)\n",
            "Requirement already satisfied: filelock in /usr/local/lib/python3.10/dist-packages (from gdown) (3.13.1)\n",
            "Requirement already satisfied: requests[socks] in /usr/local/lib/python3.10/dist-packages (from gdown) (2.31.0)\n",
            "Requirement already satisfied: six in /usr/local/lib/python3.10/dist-packages (from gdown) (1.16.0)\n",
            "Requirement already satisfied: tqdm in /usr/local/lib/python3.10/dist-packages (from gdown) (4.66.1)\n",
            "Requirement already satisfied: beautifulsoup4 in /usr/local/lib/python3.10/dist-packages (from gdown) (4.11.2)\n",
            "Requirement already satisfied: soupsieve>1.2 in /usr/local/lib/python3.10/dist-packages (from beautifulsoup4->gdown) (2.5)\n",
            "Requirement already satisfied: charset-normalizer<4,>=2 in /usr/local/lib/python3.10/dist-packages (from requests[socks]->gdown) (3.3.2)\n",
            "Requirement already satisfied: idna<4,>=2.5 in /usr/local/lib/python3.10/dist-packages (from requests[socks]->gdown) (3.6)\n",
            "Requirement already satisfied: urllib3<3,>=1.21.1 in /usr/local/lib/python3.10/dist-packages (from requests[socks]->gdown) (2.0.7)\n",
            "Requirement already satisfied: certifi>=2017.4.17 in /usr/local/lib/python3.10/dist-packages (from requests[socks]->gdown) (2023.11.17)\n",
            "Requirement already satisfied: PySocks!=1.5.7,>=1.5.6 in /usr/local/lib/python3.10/dist-packages (from requests[socks]->gdown) (1.7.1)\n"
          ]
        },
        {
          "output_type": "stream",
          "name": "stderr",
          "text": [
            "Downloading...\n",
            "From: https://drive.google.com/uc?id=1-wtf1ciQefo8nIuE4cIXO4LbMNuMfwYn\n",
            "To: /content/face_parsing_79999_iter.pth\n",
            "100%|██████████| 53.3M/53.3M [00:01<00:00, 33.6MB/s]\n"
          ]
        },
        {
          "output_type": "execute_result",
          "data": {
            "text/plain": [
              "'/content/face_parsing_79999_iter.pth'"
            ],
            "application/vnd.google.colaboratory.intrinsic+json": {
              "type": "string"
            }
          },
          "metadata": {},
          "execution_count": 10
        }
      ]
    },
    {
      "cell_type": "code",
      "source": [
        "import gdown\n",
        "\n",
        "file_id = '1TKqnZC5tObmvoopLDKxUbyBV_BB8bWXs'\n",
        "output = '/content/CtrlHair/external_model_params/shape_predictor_68_face_landmarks.dat'  # Замените 'file_name.extension' на имя и расширение файла, которое вы хотите сохранить\n",
        "\n",
        "gdown.download(f'https://drive.google.com/uc?id={file_id}', output, quiet=False)"
      ],
      "metadata": {
        "colab": {
          "base_uri": "https://localhost:8080/",
          "height": 105
        },
        "id": "uXJqMeRufxqN",
        "outputId": "9b260843-356e-4df4-c9f7-d1329a82c34b"
      },
      "execution_count": 11,
      "outputs": [
        {
          "output_type": "stream",
          "name": "stderr",
          "text": [
            "Downloading...\n",
            "From: https://drive.google.com/uc?id=1TKqnZC5tObmvoopLDKxUbyBV_BB8bWXs\n",
            "To: /content/shape_predictor_68_face_landmarks.dat\n",
            "100%|██████████| 99.7M/99.7M [00:01<00:00, 56.1MB/s]\n"
          ]
        },
        {
          "output_type": "execute_result",
          "data": {
            "text/plain": [
              "'/content/shape_predictor_68_face_landmarks.dat'"
            ],
            "application/vnd.google.colaboratory.intrinsic+json": {
              "type": "string"
            }
          },
          "metadata": {},
          "execution_count": 11
        }
      ]
    },
    {
      "cell_type": "code",
      "source": [
        "import gdown\n",
        "\n",
        "file_id = '1baLtq4RX4KRstfgKN0OmED7EBGvJgWgW'\n",
        "output = '/content/CtrlHair/external_model_params/shape_predictor_81_face_landmarks.dat'  # Замените 'file_name.extension' на имя и расширение файла, которое вы хотите сохранить\n",
        "\n",
        "gdown.download(f'https://drive.google.com/uc?id={file_id}', output, quiet=False)"
      ],
      "metadata": {
        "colab": {
          "base_uri": "https://localhost:8080/",
          "height": 105
        },
        "id": "D-XkcLX3b8Ie",
        "outputId": "72ce9bcf-befb-4f6f-8000-5b1f30770dae"
      },
      "execution_count": 12,
      "outputs": [
        {
          "output_type": "stream",
          "name": "stderr",
          "text": [
            "Downloading...\n",
            "From: https://drive.google.com/uc?id=1baLtq4RX4KRstfgKN0OmED7EBGvJgWgW\n",
            "To: /content/shape_predictor_81_face_landmarks.dat\n",
            "100%|██████████| 19.7M/19.7M [00:00<00:00, 54.2MB/s]\n"
          ]
        },
        {
          "output_type": "execute_result",
          "data": {
            "text/plain": [
              "'/content/shape_predictor_81_face_landmarks.dat'"
            ],
            "application/vnd.google.colaboratory.intrinsic+json": {
              "type": "string"
            }
          },
          "metadata": {},
          "execution_count": 12
        }
      ]
    },
    {
      "cell_type": "code",
      "source": [
        "%cd /content/CtrlHair/external_model_params"
      ],
      "metadata": {
        "colab": {
          "base_uri": "https://localhost:8080/"
        },
        "id": "oOGs0w4_jIWh",
        "outputId": "074564f9-5fba-4bb9-d294-447301c976d4"
      },
      "execution_count": 14,
      "outputs": [
        {
          "output_type": "stream",
          "name": "stdout",
          "text": [
            "/content/CtrlHair/external_model_params\n"
          ]
        }
      ]
    },
    {
      "cell_type": "code",
      "source": [
        "import os\n",
        "\n",
        "folder_name = 'sean_checkpoints'\n",
        "os.makedirs(folder_name, exist_ok=True)"
      ],
      "metadata": {
        "id": "ZK9zBgQxidQ3"
      },
      "execution_count": 15,
      "outputs": []
    },
    {
      "cell_type": "code",
      "source": [
        "%cd /content/CtrlHair/external_model_params/sean_checkpoints/\n",
        "import os\n",
        "\n",
        "folder_name = 'CelebA-HQ_pretrained'\n",
        "os.makedirs(folder_name, exist_ok=True)"
      ],
      "metadata": {
        "colab": {
          "base_uri": "https://localhost:8080/"
        },
        "id": "tVrfYoicjTjg",
        "outputId": "35fb9385-c296-4bda-aa0d-ef0c4d09775b"
      },
      "execution_count": 16,
      "outputs": [
        {
          "output_type": "stream",
          "name": "stdout",
          "text": [
            "/content/CtrlHair/external_model_params/sean_checkpoints\n"
          ]
        }
      ]
    },
    {
      "cell_type": "code",
      "source": [
        "%cd /content/CtrlHair/external_model_params/sean_checkpoints/CelebA-HQ_pretrained\n",
        "import gdown\n",
        "\n",
        "file_id = '1XrIOVV-jcIGJAz7-LGNvdwA0V2tYO4qQ'\n",
        "output = '/content/CtrlHair/external_model_params/sean_checkpoints/CelebA-HQ_pretrained/latest_net_D.pth'  # Замените 'file_name.extension' на имя и расширение файла, которое вы хотите сохранить\n",
        "\n",
        "gdown.download(f'https://drive.google.com/uc?id={file_id}', output, quiet=False)"
      ],
      "metadata": {
        "colab": {
          "base_uri": "https://localhost:8080/",
          "height": 105
        },
        "id": "bku4jQoEhnZF",
        "outputId": "c5af5bad-3cb5-4a93-a85e-8f9ba52c7daa"
      },
      "execution_count": 17,
      "outputs": [
        {
          "output_type": "stream",
          "name": "stderr",
          "text": [
            "Downloading...\n",
            "From: https://drive.google.com/uc?id=1XrIOVV-jcIGJAz7-LGNvdwA0V2tYO4qQ\n",
            "To: /content/latest_net_D.pth\n",
            "100%|██████████| 5.49M/5.49M [00:00<00:00, 202MB/s]\n"
          ]
        },
        {
          "output_type": "execute_result",
          "data": {
            "text/plain": [
              "'/content/latest_net_D.pth'"
            ],
            "application/vnd.google.colaboratory.intrinsic+json": {
              "type": "string"
            }
          },
          "metadata": {},
          "execution_count": 17
        }
      ]
    },
    {
      "cell_type": "code",
      "source": [
        "%cd /content/CtrlHair/external_model_params/sean_checkpoints/CelebA-HQ_pretrained\n",
        "import gdown\n",
        "\n",
        "file_id = '11qga4GFH-6rr2LvZLw1nnf2TFYF2Xksc'\n",
        "output = '/content/CtrlHair/external_model_params/sean_checkpoints/CelebA-HQ_pretrained/latest_net_G.pth'  # Замените 'file_name.extension' на имя и расширение файла, которое вы хотите сохранить\n",
        "\n",
        "gdown.download(f'https://drive.google.com/uc?id={file_id}', output, quiet=False)"
      ],
      "metadata": {
        "colab": {
          "base_uri": "https://localhost:8080/",
          "height": 122
        },
        "id": "2tsCbCgFkm8D",
        "outputId": "1fb3f4f9-3211-44f5-9921-357cb376ee8e"
      },
      "execution_count": 18,
      "outputs": [
        {
          "output_type": "stream",
          "name": "stdout",
          "text": [
            "/content/CtrlHair/external_model_params/sean_checkpoints/CelebA-HQ_pretrained\n"
          ]
        },
        {
          "output_type": "stream",
          "name": "stderr",
          "text": [
            "Downloading...\n",
            "From: https://drive.google.com/uc?id=11qga4GFH-6rr2LvZLw1nnf2TFYF2Xksc\n",
            "To: /content/latest_net_G.pth\n",
            "100%|██████████| 1.07G/1.07G [00:15<00:00, 71.0MB/s]\n"
          ]
        },
        {
          "output_type": "execute_result",
          "data": {
            "text/plain": [
              "'/content/latest_net_G.pth'"
            ],
            "application/vnd.google.colaboratory.intrinsic+json": {
              "type": "string"
            }
          },
          "metadata": {},
          "execution_count": 18
        }
      ]
    },
    {
      "cell_type": "code",
      "source": [
        "%cd /content/CtrlHair\n",
        "import os\n",
        "\n",
        "folder_name = 'model_trained'\n",
        "os.makedirs(folder_name, exist_ok=True)"
      ],
      "metadata": {
        "id": "_ETZ_5lHlrCJ"
      },
      "execution_count": null,
      "outputs": []
    },
    {
      "cell_type": "code",
      "source": [
        "%cd /content/CtrlHair/model_trained\n",
        "import os\n",
        "\n",
        "folder_name = 'color_texture'\n",
        "os.makedirs(folder_name, exist_ok=True)"
      ],
      "metadata": {
        "colab": {
          "base_uri": "https://localhost:8080/"
        },
        "id": "sXeCQaWjm_5a",
        "outputId": "db79df35-24c2-4963-88b2-8c1f241b1fbc"
      },
      "execution_count": 19,
      "outputs": [
        {
          "output_type": "stream",
          "name": "stdout",
          "text": [
            "/content/CtrlHair/model_trained\n"
          ]
        }
      ]
    },
    {
      "cell_type": "code",
      "source": [
        "import os\n",
        "\n",
        "folder_name = 'shape'\n",
        "os.makedirs(folder_name, exist_ok=True)"
      ],
      "metadata": {
        "id": "4hZ_Y6IsnagF"
      },
      "execution_count": 20,
      "outputs": []
    },
    {
      "cell_type": "code",
      "source": [
        "import os\n",
        "\n",
        "folder_name = 'curliness_classifier'\n",
        "os.makedirs(folder_name, exist_ok=True)\n",
        "\n",
        "import os\n",
        "\n",
        "folder_name = 'color_encoder'\n",
        "os.makedirs(folder_name, exist_ok=True)"
      ],
      "metadata": {
        "id": "60TDJgbsn_5Z"
      },
      "execution_count": 21,
      "outputs": []
    },
    {
      "cell_type": "code",
      "source": [
        "%cd /content/CtrlHair/model_trained/color_texture\n",
        "import os\n",
        "\n",
        "folder_name = '045__same_043__trainset9402'\n",
        "os.makedirs(folder_name, exist_ok=True)\n",
        "\n",
        "import gdown\n",
        "\n",
        "file_id = '1jNnkyLnFY_tqgVjryogEopGc0PrCHIRh'\n",
        "output = '/content/CtrlHair/model_trained/color_texture/045__same_043__trainset9402/setting_hair.json'  # Замените 'file_name.extension' на имя и расширение файла, которое вы хотите сохранить\n",
        "\n",
        "gdown.download(f'https://drive.google.com/uc?id={file_id}', output, quiet=False)"
      ],
      "metadata": {
        "colab": {
          "base_uri": "https://localhost:8080/",
          "height": 122
        },
        "id": "LZel2goToz2e",
        "outputId": "0df27a31-8490-4c3c-eb75-b988606e4ec6"
      },
      "execution_count": 22,
      "outputs": [
        {
          "output_type": "stream",
          "name": "stdout",
          "text": [
            "/content/CtrlHair/model_trained/color_texture\n"
          ]
        },
        {
          "output_type": "stream",
          "name": "stderr",
          "text": [
            "Downloading...\n",
            "From: https://drive.google.com/uc?id=1jNnkyLnFY_tqgVjryogEopGc0PrCHIRh\n",
            "To: /content/CtrlHair/model_trained/color_texture/045__same_043__trainset9402/setting_hair.json\n",
            "100%|██████████| 4.27k/4.27k [00:00<00:00, 12.8MB/s]\n"
          ]
        },
        {
          "output_type": "execute_result",
          "data": {
            "text/plain": [
              "'/content/CtrlHair/model_trained/color_texture/045__same_043__trainset9402/setting_hair.json'"
            ],
            "application/vnd.google.colaboratory.intrinsic+json": {
              "type": "string"
            }
          },
          "metadata": {},
          "execution_count": 22
        }
      ]
    },
    {
      "cell_type": "code",
      "source": [
        "%cd /content/CtrlHair/model_trained/color_texture/045__same_043__trainset9402\n",
        "import os\n",
        "\n",
        "folder_name = 'checkpoints'\n",
        "os.makedirs(folder_name, exist_ok=True)\n",
        "\n",
        "import gdown\n",
        "\n",
        "file_id = '1WxnrGNg4jEbDa5XzcPO_YN0m6unmmnR5'\n",
        "output = '/content/CtrlHair/model_trained/color_texture/045__same_043__trainset9402/checkpoints/0650000.ckpt'  # Замените 'file_name.extension' на имя и расширение файла, которое вы хотите сохранить\n",
        "\n",
        "gdown.download(f'https://drive.google.com/uc?id={file_id}', output, quiet=False)"
      ],
      "metadata": {
        "colab": {
          "base_uri": "https://localhost:8080/",
          "height": 122
        },
        "id": "Y4IWd3FsrKim",
        "outputId": "e6e06cd4-cf49-4a35-ea88-a89474ab0a11"
      },
      "execution_count": 23,
      "outputs": [
        {
          "output_type": "stream",
          "name": "stdout",
          "text": [
            "/content/CtrlHair/model_trained/color_texture/045__same_043__trainset9402\n"
          ]
        },
        {
          "output_type": "stream",
          "name": "stderr",
          "text": [
            "Downloading...\n",
            "From: https://drive.google.com/uc?id=1WxnrGNg4jEbDa5XzcPO_YN0m6unmmnR5\n",
            "To: /content/CtrlHair/model_trained/color_texture/045__same_043__trainset9402/checkpoints/0650000.ckpt\n",
            "100%|██████████| 8.01M/8.01M [00:00<00:00, 93.8MB/s]\n"
          ]
        },
        {
          "output_type": "execute_result",
          "data": {
            "text/plain": [
              "'/content/CtrlHair/model_trained/color_texture/045__same_043__trainset9402/checkpoints/0650000.ckpt'"
            ],
            "application/vnd.google.colaboratory.intrinsic+json": {
              "type": "string"
            }
          },
          "metadata": {},
          "execution_count": 23
        }
      ]
    },
    {
      "cell_type": "code",
      "source": [
        "%cd /content/CtrlHair/model_trained/color_texture/045__same_043__trainset9402\n",
        "import os\n",
        "\n",
        "folder_name = 'texture_dir_used'\n",
        "os.makedirs(folder_name, exist_ok=True)\n",
        "\n",
        "import gdown\n",
        "\n",
        "file_id = '14lGexppbXxTPAZ-e_krPDiEbHEecIiyO'\n",
        "output = '/content/CtrlHair/model_trained/color_texture/045__same_043__trainset9402/texture_dir_used/0_smoothness_13.pkl'  # Замените 'file_name.extension' на имя и расширение файла, которое вы хотите сохранить\n",
        "\n",
        "gdown.download(f'https://drive.google.com/uc?id={file_id}', output, quiet=False)\n",
        "\n",
        "import gdown\n",
        "\n",
        "file_id = '1dOo4uWtPO4KU6qCpqnWOpsXV0Lw9xvvD'\n",
        "output = '/content/CtrlHair/model_trained/color_texture/045__same_043__trainset9402/texture_dir_used/1_thickness_39.pkl'  # Замените 'file_name.extension' на имя и расширение файла, которое вы хотите сохранить\n",
        "\n",
        "gdown.download(f'https://drive.google.com/uc?id={file_id}', output, quiet=False)\n"
      ],
      "metadata": {
        "colab": {
          "base_uri": "https://localhost:8080/",
          "height": 229
        },
        "id": "tMdqNRNwsmPa",
        "outputId": "874996fb-6788-4cfb-fa2d-28c000943c68"
      },
      "execution_count": 24,
      "outputs": [
        {
          "output_type": "stream",
          "name": "stdout",
          "text": [
            "/content/CtrlHair/model_trained/color_texture/045__same_043__trainset9402\n"
          ]
        },
        {
          "output_type": "stream",
          "name": "stderr",
          "text": [
            "Downloading...\n",
            "From: https://drive.google.com/uc?id=14lGexppbXxTPAZ-e_krPDiEbHEecIiyO\n",
            "To: /content/CtrlHair/model_trained/color_texture/045__same_043__trainset9402/texture_dir_used/0_smoothness_13.pkl\n",
            "100%|██████████| 419/419 [00:00<00:00, 1.42MB/s]\n",
            "Downloading...\n",
            "From: https://drive.google.com/uc?id=1dOo4uWtPO4KU6qCpqnWOpsXV0Lw9xvvD\n",
            "To: /content/CtrlHair/model_trained/color_texture/045__same_043__trainset9402/texture_dir_used/1_thickness_39.pkl\n",
            "100%|██████████| 419/419 [00:00<00:00, 1.37MB/s]\n"
          ]
        },
        {
          "output_type": "execute_result",
          "data": {
            "text/plain": [
              "'/content/CtrlHair/model_trained/color_texture/045__same_043__trainset9402/texture_dir_used/1_thickness_39.pkl'"
            ],
            "application/vnd.google.colaboratory.intrinsic+json": {
              "type": "string"
            }
          },
          "metadata": {},
          "execution_count": 24
        }
      ]
    },
    {
      "cell_type": "code",
      "source": [
        "%cd /content/CtrlHair/model_trained/color_encoder\n",
        "import os\n",
        "\n",
        "folder_name = 'p004___pca_std'\n",
        "os.makedirs(folder_name, exist_ok=True)\n",
        "\n",
        "import gdown\n",
        "\n",
        "%cd /content/CtrlHair/model_trained/color_encoder/p004___pca_std\n",
        "import os\n",
        "\n",
        "folder_name = 'checkpoints'\n",
        "os.makedirs(folder_name, exist_ok=True)\n",
        "\n",
        "import gdown\n",
        "\n",
        "\n",
        "import gdown\n",
        "\n",
        "file_id = '1g6QahwcCmc6rRzGSqn86rVFSz6zONs0G'\n",
        "output = '/content/CtrlHair/model_trained/color_encoder/p004___pca_std/setting_hair.json'  # Замените 'file_name.extension' на имя и расширение файла, которое вы хотите сохранить\n",
        "\n",
        "gdown.download(f'https://drive.google.com/uc?id={file_id}', output, quiet=False)\n"
      ],
      "metadata": {
        "colab": {
          "base_uri": "https://localhost:8080/",
          "height": 140
        },
        "id": "U4zFDB5wwd32",
        "outputId": "ebccdb43-3520-436a-97f6-cf2efb9a8182"
      },
      "execution_count": 25,
      "outputs": [
        {
          "output_type": "stream",
          "name": "stdout",
          "text": [
            "/content/CtrlHair/model_trained/color_encoder\n",
            "/content/CtrlHair/model_trained/color_encoder/p004___pca_std\n"
          ]
        },
        {
          "output_type": "stream",
          "name": "stderr",
          "text": [
            "Downloading...\n",
            "From: https://drive.google.com/uc?id=1g6QahwcCmc6rRzGSqn86rVFSz6zONs0G\n",
            "To: /content/CtrlHair/model_trained/color_encoder/p004___pca_std/setting_hair.json\n",
            "100%|██████████| 1.02k/1.02k [00:00<00:00, 3.35MB/s]\n"
          ]
        },
        {
          "output_type": "execute_result",
          "data": {
            "text/plain": [
              "'/content/CtrlHair/model_trained/color_encoder/p004___pca_std/setting_hair.json'"
            ],
            "application/vnd.google.colaboratory.intrinsic+json": {
              "type": "string"
            }
          },
          "metadata": {},
          "execution_count": 25
        }
      ]
    },
    {
      "cell_type": "code",
      "source": [
        "%cd /content/CtrlHair/model_trained/curliness_classifier\n",
        "import os\n",
        "\n",
        "folder_name = 'p002___wavy'\n",
        "os.makedirs(folder_name, exist_ok=True)\n",
        "\n",
        "import gdown\n",
        "\n",
        "%cd /content/CtrlHair/model_trained/curliness_classifier/p002___wavy\n",
        "import os\n",
        "\n",
        "folder_name = 'checkpoints'\n",
        "os.makedirs(folder_name, exist_ok=True)\n",
        "\n",
        "import gdown\n",
        "\n"
      ],
      "metadata": {
        "colab": {
          "base_uri": "https://localhost:8080/"
        },
        "id": "2Y_8nLc9zf0o",
        "outputId": "835fa036-266b-4397-c4d7-67f61a77a123"
      },
      "execution_count": 26,
      "outputs": [
        {
          "output_type": "stream",
          "name": "stdout",
          "text": [
            "/content/CtrlHair/model_trained/curliness_classifier\n",
            "/content/CtrlHair/model_trained/curliness_classifier/p002___wavy\n"
          ]
        }
      ]
    },
    {
      "cell_type": "code",
      "source": [
        "%cd /content/CtrlHair/model_trained/shape\n",
        "import os\n",
        "\n",
        "folder_name = '054__succeed__049__gan_fake_0.5_from_noise'\n",
        "os.makedirs(folder_name, exist_ok=True)\n",
        "\n",
        "import gdown\n",
        "\n",
        "import os\n",
        "\n",
        "folder_name = 'checkpoints'\n",
        "os.makedirs(folder_name, exist_ok=True)\n",
        "\n",
        "import gdown\n",
        "\n",
        "import os\n",
        "\n",
        "folder_name = 'shape_dir_used'\n",
        "os.makedirs(folder_name, exist_ok=True)\n",
        "\n",
        "import gdown"
      ],
      "metadata": {
        "colab": {
          "base_uri": "https://localhost:8080/"
        },
        "id": "z6f3DNRS2sey",
        "outputId": "67c9918c-355c-4f55-b471-5b436d7fcd62"
      },
      "execution_count": 27,
      "outputs": [
        {
          "output_type": "stream",
          "name": "stdout",
          "text": [
            "/content/CtrlHair/model_trained/shape\n"
          ]
        }
      ]
    },
    {
      "cell_type": "code",
      "source": [
        "%cd /content/CtrlHair/model_trained/shape/054__succeed__049__gan_fake_0.5_from_noise/checkpoints\n",
        "import gdown\n",
        "\n",
        "file_id = '1msoR8L3aLtQbT3uEpt0DfSFpy75EnUUw'\n",
        "output = '/content/CtrlHair/model_trained/shape/054__succeed__049__gan_fake_0.5_from_noise/checkpoints/0380000.ckpt'  # Замените 'file_name.extension' на имя и расширение файла, которое вы хотите сохранить\n",
        "\n",
        "gdown.download(f'https://drive.google.com/uc?id={file_id}', output, quiet=False)\n",
        "\n",
        "import gdown\n",
        "\n",
        "file_id = '1DVL0LGg6V3wIPdBN6fT0qnRYLjbg-EGW'\n",
        "output = '/content/CtrlHair/model_trained/shape/054__succeed__049__gan_fake_0.5_from_noise/checkpoints/latest_checkpoint'  # Замените 'file_name.extension' на имя и расширение файла, которое вы хотите сохранить\n",
        "\n",
        "gdown.download(f'https://drive.google.com/uc?id={file_id}', output, quiet=False)"
      ],
      "metadata": {
        "colab": {
          "base_uri": "https://localhost:8080/",
          "height": 229
        },
        "id": "BpGhTcrs6drS",
        "outputId": "d1c8a0e2-c1d6-494b-b5cb-cf06f2602fc5"
      },
      "execution_count": 30,
      "outputs": [
        {
          "output_type": "stream",
          "name": "stdout",
          "text": [
            "/content/CtrlHair/model_trained/shape/054__succeed__049__gan_fake_0.5_from_noise/checkpoints\n"
          ]
        },
        {
          "output_type": "stream",
          "name": "stderr",
          "text": [
            "Downloading...\n",
            "From: https://drive.google.com/uc?id=1msoR8L3aLtQbT3uEpt0DfSFpy75EnUUw\n",
            "To: /content/CtrlHair/model_trained/shape/054__succeed__049__gan_fake_0.5_from_noise/checkpoints/0380000.ckpt\n",
            "100%|██████████| 3.03G/3.03G [00:39<00:00, 76.5MB/s]\n",
            "Downloading...\n",
            "From: https://drive.google.com/uc?id=1DVL0LGg6V3wIPdBN6fT0qnRYLjbg-EGW\n",
            "To: /content/CtrlHair/model_trained/shape/054__succeed__049__gan_fake_0.5_from_noise/checkpoints/latest_checkpoint\n",
            "100%|██████████| 13.0/13.0 [00:00<00:00, 12.6kB/s]\n"
          ]
        },
        {
          "output_type": "execute_result",
          "data": {
            "text/plain": [
              "'/content/CtrlHair/model_trained/shape/054__succeed__049__gan_fake_0.5_from_noise/checkpoints/latest_checkpoint'"
            ],
            "application/vnd.google.colaboratory.intrinsic+json": {
              "type": "string"
            }
          },
          "metadata": {},
          "execution_count": 30
        }
      ]
    },
    {
      "cell_type": "code",
      "source": [
        "%cd /content/CtrlHair\n",
        "import os\n",
        "\n",
        "folder_name = 'dataset_info_ctrlhair'\n",
        "os.makedirs(folder_name, exist_ok=True)\n",
        "\n",
        "import gdown"
      ],
      "metadata": {
        "colab": {
          "base_uri": "https://localhost:8080/"
        },
        "id": "BBVtXgJa-GBC",
        "outputId": "18187757-be21-4337-ee48-a2128e8cb0db"
      },
      "execution_count": 31,
      "outputs": [
        {
          "output_type": "stream",
          "name": "stdout",
          "text": [
            "/content/CtrlHair\n"
          ]
        }
      ]
    },
    {
      "cell_type": "code",
      "source": [
        "%cd /content/CtrlHair/dataset_info_ctrlhair\n",
        "import os\n",
        "\n",
        "folder_name = 'manual_label'\n",
        "os.makedirs(folder_name, exist_ok=True)\n",
        "\n",
        "import gdown\n",
        "\n",
        "import gdown\n",
        "\n",
        "file_id = '14y8RLclBR2bZRbdC7IHWjvjZ_tFUjgYP?'\n",
        "output = '/content/CtrlHair/dataset_info_ctrlhair/manual_label'  # Замените 'file_name.extension' на имя и расширение файла, которое вы хотите сохранить\n",
        "\n",
        "gdown.download(f'https://drive.google.com/uc?id={file_id}', output, quiet=False)\n"
      ],
      "metadata": {
        "colab": {
          "base_uri": "https://localhost:8080/"
        },
        "id": "GTKcxaYZAyZM",
        "outputId": "53584cf5-b161-44a1-c01f-cd028b030633"
      },
      "execution_count": 34,
      "outputs": [
        {
          "output_type": "stream",
          "name": "stdout",
          "text": [
            "/content/CtrlHair/dataset_info_ctrlhair\n",
            "Access denied with the following error:\n"
          ]
        },
        {
          "output_type": "stream",
          "name": "stderr",
          "text": [
            "\n",
            " \tCannot retrieve the public link of the file. You may need to change\n",
            "\tthe permission to 'Anyone with the link', or have had many accesses. \n",
            "\n",
            "You may still be able to access the file from the browser:\n",
            "\n",
            "\t https://drive.google.com/uc?id=14y8RLclBR2bZRbdC7IHWjvjZ_tFUjgYP? \n",
            "\n"
          ]
        }
      ]
    },
    {
      "cell_type": "code",
      "source": [
        "import gdown\n",
        "\n",
        "folder_id = '1u5GxXK-GBdPZADHfxgL5UvuLQ5I_o8wb'\n",
        "output = '/content/CtrlHair/dataset_info_ctrlhair/manual_label/curliness'  # Замените 'folder_name' на имя папки, которую вы хотите сохранить\n",
        "\n",
        "gdown.download(f'https://drive.google.com/uc?id={folder_id}&export=download', output, quiet=False)"
      ],
      "metadata": {
        "colab": {
          "base_uri": "https://localhost:8080/"
        },
        "id": "vjLssh8sB_89",
        "outputId": "b86a0c3a-ca36-4a62-9546-15211d86e3bb"
      },
      "execution_count": 35,
      "outputs": [
        {
          "output_type": "stream",
          "name": "stdout",
          "text": [
            "Access denied with the following error:\n"
          ]
        },
        {
          "output_type": "stream",
          "name": "stderr",
          "text": [
            "\n",
            " \tCannot retrieve the public link of the file. You may need to change\n",
            "\tthe permission to 'Anyone with the link', or have had many accesses. \n",
            "\n",
            "You may still be able to access the file from the browser:\n",
            "\n",
            "\t https://drive.google.com/uc?id=1u5GxXK-GBdPZADHfxgL5UvuLQ5I_o8wb&export=download \n",
            "\n"
          ]
        }
      ]
    },
    {
      "cell_type": "code",
      "source": [
        "import gdown\n",
        "\n",
        "folder_id = '1wxbytkQuaki8jF0clikivCAJ8l4myj2M'\n",
        "output = '/content/CtrlHair/dataset_info_ctrlhair/'  # Замените 'folder_name' на имя папки, которую вы хотите сохранить\n",
        "\n",
        "gdown.download(f'https://drive.google.com/uc?id={folder_id}&export=download', output, quiet=False)"
      ],
      "metadata": {
        "id": "x8PclfCjGCRz",
        "outputId": "c487f310-dcc5-45f9-974a-e9e647d9fad4",
        "colab": {
          "base_uri": "https://localhost:8080/"
        }
      },
      "execution_count": 41,
      "outputs": [
        {
          "output_type": "stream",
          "name": "stdout",
          "text": [
            "Access denied with the following error:\n"
          ]
        },
        {
          "output_type": "stream",
          "name": "stderr",
          "text": [
            "\n",
            " \tCannot retrieve the public link of the file. You may need to change\n",
            "\tthe permission to 'Anyone with the link', or have had many accesses. \n",
            "\n",
            "You may still be able to access the file from the browser:\n",
            "\n",
            "\t https://drive.google.com/uc?id=1wxbytkQuaki8jF0clikivCAJ8l4myj2M&export=download \n",
            "\n"
          ]
        }
      ]
    },
    {
      "cell_type": "code",
      "source": [
        "import gdown\n",
        "\n",
        "folder_id = '1kYdvE0f0IktPwdj_HFa_Zhz4gYF_e--3?'\n",
        "output = '/content/CtrlHair/dataset_info_ctrlhair/manual_label'  # Замените 'folder_name' на имя папки, которую вы хотите сохранить\n",
        "\n",
        "gdown.download(f'https://drive.google.com/uc?id={folder_id}&export=download', output, quiet=False)"
      ],
      "metadata": {
        "id": "RG35j_kqJFJf",
        "outputId": "85c0e3a6-2ba0-405f-aa7d-7b5187131df5",
        "colab": {
          "base_uri": "https://localhost:8080/"
        }
      },
      "execution_count": 44,
      "outputs": [
        {
          "output_type": "stream",
          "name": "stdout",
          "text": [
            "Access denied with the following error:\n"
          ]
        },
        {
          "output_type": "stream",
          "name": "stderr",
          "text": [
            "\n",
            " \tCannot retrieve the public link of the file. You may need to change\n",
            "\tthe permission to 'Anyone with the link', or have had many accesses. \n",
            "\n",
            "You may still be able to access the file from the browser:\n",
            "\n",
            "\t https://drive.google.com/uc?id=1kYdvE0f0IktPwdj_HFa_Zhz4gYF_e--3?&export=download \n",
            "\n"
          ]
        }
      ]
    },
    {
      "cell_type": "code",
      "source": [
        "!ls"
      ],
      "metadata": {
        "id": "_t-AceUiHCfg",
        "outputId": "a33fcd54-e036-48c8-cd08-2dd53462d195",
        "colab": {
          "base_uri": "https://localhost:8080/"
        }
      },
      "execution_count": 51,
      "outputs": [
        {
          "output_type": "stream",
          "name": "stdout",
          "text": [
            "color_texture_branch   external_model_params  model_trained\t   __pycache__\t ui\n",
            "common_dataset.py      global_value_utils.py  my_pylib\t\t   README.md\t util\n",
            "dataset_info_ctrlhair  hair_editor.py\t      my_torchlib\t   sean_codes\t wrap_codes\n",
            "dataset_scripts        imgs\t\t      poisson_blending.py  shape_branch\n"
          ]
        }
      ]
    },
    {
      "cell_type": "code",
      "source": [
        "%cd /content/CtrlHair\n",
        "!python ui/frontend_demo.py"
      ],
      "metadata": {
        "colab": {
          "base_uri": "https://localhost:8080/"
        },
        "id": "2pO0QXpO_zLL",
        "outputId": "39f2736f-71b3-4e34-ec17-cfa314b7a5f4"
      },
      "execution_count": 50,
      "outputs": [
        {
          "output_type": "stream",
          "name": "stdout",
          "text": [
            "/content/CtrlHair\n",
            "Traceback (most recent call last):\n",
            "  File \"/content/CtrlHair/ui/frontend_demo.py\", line 24, in <module>\n",
            "    from ui.backend import Backend\n",
            "  File \"/content/CtrlHair/./ui/backend.py\", line 25, in <module>\n",
            "    from wrap_codes.mask_adaptor import wrap_by_imgs\n",
            "  File \"/content/CtrlHair/./wrap_codes/mask_adaptor.py\", line 6, in <module>\n",
            "    from wrap_codes.wrap_triangle import triangle_wrap_hair\n",
            "  File \"/content/CtrlHair/./wrap_codes/wrap_triangle/triangle_wrap_hair.py\", line 12, in <module>\n",
            "    from wrap_codes.wrap_triangle.step_4.help_warp import get_warpedUV\n",
            "  File \"/content/CtrlHair/./wrap_codes/wrap_triangle/step_4/help_warp.py\", line 9, in <module>\n",
            "    from external_code.my_cython import mesh_core_cython\n",
            "ModuleNotFoundError: No module named 'external_code'\n"
          ]
        }
      ]
    },
    {
      "cell_type": "code",
      "source": [
        "!pip install tensorboardX\n",
        "!pip install torchvision\n",
        "!pip install dlib"
      ],
      "metadata": {
        "id": "_xaLeh7dLxv-",
        "outputId": "c48fb43e-6f8e-4682-972a-bcab01c80fe2",
        "colab": {
          "base_uri": "https://localhost:8080/"
        }
      },
      "execution_count": 47,
      "outputs": [
        {
          "output_type": "stream",
          "name": "stdout",
          "text": [
            "Collecting tensorboardX\n",
            "  Downloading tensorboardX-2.6.2.2-py2.py3-none-any.whl (101 kB)\n",
            "\u001b[?25l     \u001b[90m━━━━━━━━━━━━━━━━━━━━━━━━━━━━━━━━━━━━━━━━\u001b[0m \u001b[32m0.0/101.7 kB\u001b[0m \u001b[31m?\u001b[0m eta \u001b[36m-:--:--\u001b[0m\r\u001b[2K     \u001b[91m━━━━━━━━━━━━━━━━━━━━━━━━━━━━━━━━━━━━\u001b[0m\u001b[90m╺\u001b[0m\u001b[90m━━━\u001b[0m \u001b[32m92.2/101.7 kB\u001b[0m \u001b[31m2.6 MB/s\u001b[0m eta \u001b[36m0:00:01\u001b[0m\r\u001b[2K     \u001b[90m━━━━━━━━━━━━━━━━━━━━━━━━━━━━━━━━━━━━━━━━\u001b[0m \u001b[32m101.7/101.7 kB\u001b[0m \u001b[31m2.4 MB/s\u001b[0m eta \u001b[36m0:00:00\u001b[0m\n",
            "\u001b[?25hRequirement already satisfied: numpy in /usr/local/lib/python3.10/dist-packages (from tensorboardX) (1.23.5)\n",
            "Requirement already satisfied: packaging in /usr/local/lib/python3.10/dist-packages (from tensorboardX) (23.2)\n",
            "Requirement already satisfied: protobuf>=3.20 in /usr/local/lib/python3.10/dist-packages (from tensorboardX) (3.20.3)\n",
            "Installing collected packages: tensorboardX\n",
            "Successfully installed tensorboardX-2.6.2.2\n",
            "Requirement already satisfied: torchvision in /usr/local/lib/python3.10/dist-packages (0.16.0+cu118)\n",
            "Requirement already satisfied: numpy in /usr/local/lib/python3.10/dist-packages (from torchvision) (1.23.5)\n",
            "Requirement already satisfied: requests in /usr/local/lib/python3.10/dist-packages (from torchvision) (2.31.0)\n",
            "Requirement already satisfied: torch==2.1.0 in /usr/local/lib/python3.10/dist-packages (from torchvision) (2.1.0+cu118)\n",
            "Requirement already satisfied: pillow!=8.3.*,>=5.3.0 in /usr/local/lib/python3.10/dist-packages (from torchvision) (9.4.0)\n",
            "Requirement already satisfied: filelock in /usr/local/lib/python3.10/dist-packages (from torch==2.1.0->torchvision) (3.13.1)\n",
            "Requirement already satisfied: typing-extensions in /usr/local/lib/python3.10/dist-packages (from torch==2.1.0->torchvision) (4.5.0)\n",
            "Requirement already satisfied: sympy in /usr/local/lib/python3.10/dist-packages (from torch==2.1.0->torchvision) (1.12)\n",
            "Requirement already satisfied: networkx in /usr/local/lib/python3.10/dist-packages (from torch==2.1.0->torchvision) (3.2.1)\n",
            "Requirement already satisfied: jinja2 in /usr/local/lib/python3.10/dist-packages (from torch==2.1.0->torchvision) (3.1.2)\n",
            "Requirement already satisfied: fsspec in /usr/local/lib/python3.10/dist-packages (from torch==2.1.0->torchvision) (2023.6.0)\n",
            "Requirement already satisfied: triton==2.1.0 in /usr/local/lib/python3.10/dist-packages (from torch==2.1.0->torchvision) (2.1.0)\n",
            "Requirement already satisfied: charset-normalizer<4,>=2 in /usr/local/lib/python3.10/dist-packages (from requests->torchvision) (3.3.2)\n",
            "Requirement already satisfied: idna<4,>=2.5 in /usr/local/lib/python3.10/dist-packages (from requests->torchvision) (3.6)\n",
            "Requirement already satisfied: urllib3<3,>=1.21.1 in /usr/local/lib/python3.10/dist-packages (from requests->torchvision) (2.0.7)\n",
            "Requirement already satisfied: certifi>=2017.4.17 in /usr/local/lib/python3.10/dist-packages (from requests->torchvision) (2023.11.17)\n",
            "Requirement already satisfied: MarkupSafe>=2.0 in /usr/local/lib/python3.10/dist-packages (from jinja2->torch==2.1.0->torchvision) (2.1.3)\n",
            "Requirement already satisfied: mpmath>=0.19 in /usr/local/lib/python3.10/dist-packages (from sympy->torch==2.1.0->torchvision) (1.3.0)\n",
            "Requirement already satisfied: dlib in /usr/local/lib/python3.10/dist-packages (19.24.2)\n"
          ]
        }
      ]
    },
    {
      "cell_type": "code",
      "source": [
        "!pip install pillow\n",
        "!pip install pandas\n",
        "!pip install scikit-learn\n",
        "!pip install opencv-python"
      ],
      "metadata": {
        "id": "0WqiaI0NMAip",
        "outputId": "1f2f1a69-3ec7-495e-f88b-cbfdd47d0690",
        "colab": {
          "base_uri": "https://localhost:8080/"
        }
      },
      "execution_count": 48,
      "outputs": [
        {
          "output_type": "stream",
          "name": "stdout",
          "text": [
            "Requirement already satisfied: pillow in /usr/local/lib/python3.10/dist-packages (9.4.0)\n",
            "Requirement already satisfied: pandas in /usr/local/lib/python3.10/dist-packages (1.5.3)\n",
            "Requirement already satisfied: python-dateutil>=2.8.1 in /usr/local/lib/python3.10/dist-packages (from pandas) (2.8.2)\n",
            "Requirement already satisfied: pytz>=2020.1 in /usr/local/lib/python3.10/dist-packages (from pandas) (2023.3.post1)\n",
            "Requirement already satisfied: numpy>=1.21.0 in /usr/local/lib/python3.10/dist-packages (from pandas) (1.23.5)\n",
            "Requirement already satisfied: six>=1.5 in /usr/local/lib/python3.10/dist-packages (from python-dateutil>=2.8.1->pandas) (1.16.0)\n",
            "Requirement already satisfied: scikit-learn in /usr/local/lib/python3.10/dist-packages (1.2.2)\n",
            "Requirement already satisfied: numpy>=1.17.3 in /usr/local/lib/python3.10/dist-packages (from scikit-learn) (1.23.5)\n",
            "Requirement already satisfied: scipy>=1.3.2 in /usr/local/lib/python3.10/dist-packages (from scikit-learn) (1.11.4)\n",
            "Requirement already satisfied: joblib>=1.1.1 in /usr/local/lib/python3.10/dist-packages (from scikit-learn) (1.3.2)\n",
            "Requirement already satisfied: threadpoolctl>=2.0.0 in /usr/local/lib/python3.10/dist-packages (from scikit-learn) (3.2.0)\n",
            "Requirement already satisfied: opencv-python in /usr/local/lib/python3.10/dist-packages (4.8.0.76)\n",
            "Requirement already satisfied: numpy>=1.21.2 in /usr/local/lib/python3.10/dist-packages (from opencv-python) (1.23.5)\n"
          ]
        }
      ]
    },
    {
      "cell_type": "code",
      "source": [
        "!pip install PyQt5\n",
        "!pip install tqdm\n",
        "!pip install addict\n",
        "!pip install dill"
      ],
      "metadata": {
        "id": "c489ZWjlMlHO",
        "outputId": "822931a6-9796-4230-c02c-32eceff9f4fe",
        "colab": {
          "base_uri": "https://localhost:8080/"
        }
      },
      "execution_count": 49,
      "outputs": [
        {
          "output_type": "stream",
          "name": "stdout",
          "text": [
            "Collecting PyQt5\n",
            "  Downloading PyQt5-5.15.10-cp37-abi3-manylinux_2_17_x86_64.whl (8.2 MB)\n",
            "\u001b[2K     \u001b[90m━━━━━━━━━━━━━━━━━━━━━━━━━━━━━━━━━━━━━━━━\u001b[0m \u001b[32m8.2/8.2 MB\u001b[0m \u001b[31m60.4 MB/s\u001b[0m eta \u001b[36m0:00:00\u001b[0m\n",
            "\u001b[?25hCollecting PyQt5-sip<13,>=12.13 (from PyQt5)\n",
            "  Downloading PyQt5_sip-12.13.0-cp310-cp310-manylinux_2_5_x86_64.manylinux1_x86_64.whl (338 kB)\n",
            "\u001b[2K     \u001b[90m━━━━━━━━━━━━━━━━━━━━━━━━━━━━━━━━━━━━━━━━\u001b[0m \u001b[32m338.1/338.1 kB\u001b[0m \u001b[31m26.3 MB/s\u001b[0m eta \u001b[36m0:00:00\u001b[0m\n",
            "\u001b[?25hCollecting PyQt5-Qt5>=5.15.2 (from PyQt5)\n",
            "  Downloading PyQt5_Qt5-5.15.2-py3-none-manylinux2014_x86_64.whl (59.9 MB)\n",
            "\u001b[2K     \u001b[90m━━━━━━━━━━━━━━━━━━━━━━━━━━━━━━━━━━━━━━━━\u001b[0m \u001b[32m59.9/59.9 MB\u001b[0m \u001b[31m10.7 MB/s\u001b[0m eta \u001b[36m0:00:00\u001b[0m\n",
            "\u001b[?25hInstalling collected packages: PyQt5-Qt5, PyQt5-sip, PyQt5\n",
            "Successfully installed PyQt5-5.15.10 PyQt5-Qt5-5.15.2 PyQt5-sip-12.13.0\n",
            "Requirement already satisfied: tqdm in /usr/local/lib/python3.10/dist-packages (4.66.1)\n",
            "Collecting addict\n",
            "  Downloading addict-2.4.0-py3-none-any.whl (3.8 kB)\n",
            "Installing collected packages: addict\n",
            "Successfully installed addict-2.4.0\n",
            "Collecting dill\n",
            "  Downloading dill-0.3.7-py3-none-any.whl (115 kB)\n",
            "\u001b[2K     \u001b[90m━━━━━━━━━━━━━━━━━━━━━━━━━━━━━━━━━━━━━━━━\u001b[0m \u001b[32m115.3/115.3 kB\u001b[0m \u001b[31m2.3 MB/s\u001b[0m eta \u001b[36m0:00:00\u001b[0m\n",
            "\u001b[?25hInstalling collected packages: dill\n",
            "Successfully installed dill-0.3.7\n"
          ]
        }
      ]
    },
    {
      "cell_type": "code",
      "source": [
        "%cd /content/CtrlHair\n",
        "!python ui/frontend_demo.py"
      ],
      "metadata": {
        "id": "2C-dBsa_N32m",
        "outputId": "41aa5299-b223-4e3c-9d88-2a4d24fdbbb5",
        "colab": {
          "base_uri": "https://localhost:8080/"
        }
      },
      "execution_count": 52,
      "outputs": [
        {
          "output_type": "stream",
          "name": "stdout",
          "text": [
            "/content/CtrlHair\n",
            "Traceback (most recent call last):\n",
            "  File \"/content/CtrlHair/ui/frontend_demo.py\", line 24, in <module>\n",
            "    from ui.backend import Backend\n",
            "  File \"/content/CtrlHair/./ui/backend.py\", line 25, in <module>\n",
            "    from wrap_codes.mask_adaptor import wrap_by_imgs\n",
            "  File \"/content/CtrlHair/./wrap_codes/mask_adaptor.py\", line 6, in <module>\n",
            "    from wrap_codes.wrap_triangle import triangle_wrap_hair\n",
            "  File \"/content/CtrlHair/./wrap_codes/wrap_triangle/triangle_wrap_hair.py\", line 12, in <module>\n",
            "    from wrap_codes.wrap_triangle.step_4.help_warp import get_warpedUV\n",
            "  File \"/content/CtrlHair/./wrap_codes/wrap_triangle/step_4/help_warp.py\", line 9, in <module>\n",
            "    from external_code.my_cython import mesh_core_cython\n",
            "ModuleNotFoundError: No module named 'external_code'\n"
          ]
        }
      ]
    }
  ]
}